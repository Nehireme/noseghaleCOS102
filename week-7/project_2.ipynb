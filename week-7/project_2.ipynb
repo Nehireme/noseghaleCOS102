{
 "cells": [
  {
   "cell_type": "code",
   "execution_count": null,
   "id": "608f832a",
   "metadata": {},
   "outputs": [],
   "source": [
    "# importing pandas as pd\n",
    "import pandas as pd\n",
    "   \n",
    "# dictionary of lists\n",
    "record = {'Export':[\"Yes\", \"Yes\", \"Yes\", \"No\", \"-\", \"-\", \"-\", \"-\"],\n",
    "        'Segment': [\"Intermediate Cocoa Product\", \"Intermediate Cocoa Product\", \"Intermediate Cocoa Product\", \"Intermediate Cocoa Product\", \"Confectionary\", \"Confectionary\", \"Refreshment Beverages\", \"Refreshment Beverages\"],\n",
    "        'Brand':[\"Cocoa Butter\", \"Cocoa Liquor\", \"Cocoa Cake\", \"Cocoa Powder\", \"Tom Tom\", \"Tom Tom Buttermint and Strawberry\", \"Cadbury Bournvita\", \"Cadbury 3-in-1 Hot Chocoalte\"]}\n",
    "  \n",
    "# creating a dataframe from a dictionary \n",
    "df = pd.DataFrame(record)\n",
    "\n",
    "# saving the dataframe\n",
    "df.to_csv('cadbury_market.csv')"
   ]
  }
 ],
 "metadata": {
  "kernelspec": {
   "display_name": "Python 3",
   "language": "python",
   "name": "python3"
  },
  "language_info": {
   "codemirror_mode": {
    "name": "ipython",
    "version": 3
   },
   "file_extension": ".py",
   "mimetype": "text/x-python",
   "name": "python",
   "nbconvert_exporter": "python",
   "pygments_lexer": "ipython3",
   "version": "3.13.2"
  }
 },
 "nbformat": 4,
 "nbformat_minor": 5
}
